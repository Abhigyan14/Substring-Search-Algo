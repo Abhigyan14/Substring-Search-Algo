{
 "cells": [
  {
   "cell_type": "markdown",
   "metadata": {},
   "source": [
    "# Code implementation for Brute force method, KMP and Boyer Moore"
   ]
  },
  {
   "cell_type": "markdown",
   "metadata": {},
   "source": [
    "#### data_KMP=[]\n",
    "#### data_Brute=[]\n",
    "#### data_Boyer=[]\n",
    "#### These were used to store the output for the graphs"
   ]
  },
  {
   "cell_type": "markdown",
   "metadata": {},
   "source": [
    "## Input Genomic FASTA File ##"
   ]
  },
  {
   "cell_type": "code",
   "execution_count": 650,
   "metadata": {},
   "outputs": [],
   "source": [
    "inputFile = 'genomic.fna'"
   ]
  },
  {
   "cell_type": "markdown",
   "metadata": {},
   "source": [
    "## Input File Formatting (Removing of \"\\n\" and headers) \n",
    "#### Reference to (https://stackoverflow.com/questions/11968998/remove-lines-that-contain-certain-string)"
   ]
  },
  {
   "cell_type": "code",
   "execution_count": 651,
   "metadata": {},
   "outputs": [],
   "source": [
    "tempFile = 'tempGenomic.txt'\n",
    "removeChar = ['>'] \n",
    "\n",
    "\n",
    "with open(inputFile) as oldfile, open(tempFile, 'w') as newfile:\n",
    "    for line in oldfile:\n",
    "        if not any(removeChar in line for removeChar in removeChar):\n",
    "            line = line.replace('\\n', '')\n",
    "            newfile.write(line)\n",
    "\n",
    "a = open(tempFile, 'r')\n",
    "a = a.read()"
   ]
  },
  {
   "cell_type": "markdown",
   "metadata": {},
   "source": [
    "# Input Sequence #"
   ]
  },
  {
   "cell_type": "code",
   "execution_count": 655,
   "metadata": {},
   "outputs": [
    {
     "name": "stdout",
     "output_type": "stream",
     "text": [
      "Enter sequence: TGATTTTTGTGGA\n"
     ]
    }
   ],
   "source": [
    "inputSequence = input(\"Enter sequence: \")"
   ]
  },
  {
   "cell_type": "markdown",
   "metadata": {},
   "source": [
    "# Brute Force Method "
   ]
  },
  {
   "cell_type": "code",
   "execution_count": 656,
   "metadata": {},
   "outputs": [
    {
     "name": "stdout",
     "output_type": "stream",
     "text": [
      "There is an occurrence at position: 24682\n"
     ]
    }
   ],
   "source": [
    "i=0\n",
    "j=0\n",
    "# cnt_Brute counts the number of comparisons for Brute Force\n",
    "cnt_Brute=0\n",
    "occurOnceFlag=0 #To check if there is at least once occurence\n",
    "while i<len(a):\n",
    "    # To check for the first character of the input seqence & file\n",
    "    cnt_Brute+=1\n",
    "    if a[i]==inputSequence[j]:\n",
    "        #Increase the index of the sequence to check for the next character\n",
    "        j=j+1\n",
    "    else:\n",
    "        cnt_Brute+=1\n",
    "        if j>0:\n",
    "            i=i-j\n",
    "        #To re-check for the input sequence\n",
    "        j=0\n",
    "    cnt_Brute+=1\n",
    "    if j==len(inputSequence):\n",
    "        #Bringing the index of input sequence back to 0 to check for other match sequence in the file\n",
    "        j=0\n",
    "        print(\"There is an occurrence at position:\", ((i+2)-len(inputSequence)))\n",
    "        #i is incremented to increase the position of the character in the Genome file\n",
    "        occurOnceFlag=1\n",
    "        \n",
    "    if(i == len(a) - 1 and occurOnceFlag == 0): #When there is COMPLETELY no occurence\n",
    "        print(\"There is no occurence for your input: \" + inputSequence)\n",
    "        \n",
    "    i+=1\n",
    "#This was to store the data for the graphs output\n",
    "#data_Brute.append([len(inputSequence),cnt_Brute])"
   ]
  },
  {
   "cell_type": "markdown",
   "metadata": {},
   "source": [
    "# KMP"
   ]
  },
  {
   "cell_type": "code",
   "execution_count": 657,
   "metadata": {},
   "outputs": [
    {
     "name": "stdout",
     "output_type": "stream",
     "text": [
      "There is an occurrence at position: 24682\n"
     ]
    }
   ],
   "source": [
    "# For making the prerequisite list needed for KMP\n",
    "i,j=1,0\n",
    "l=[]\n",
    "l.append(0)\n",
    "# cnt_KMP counts the number of comparisons for KMP\n",
    "cnt_KMP=0\n",
    "while i<len(inputSequence):\n",
    "    cnt_KMP+=1\n",
    "    if inputSequence[i]==inputSequence[j]:\n",
    "        l.append(1+j)\n",
    "        i+=1\n",
    "        j+=1\n",
    "    else:\n",
    "        cnt_KMP+=1\n",
    "        if j!=0:\n",
    "            j=l[j-1]\n",
    "        else:\n",
    "            l.append(0)\n",
    "            i+=1\n",
    "# Re-initailising i and j\n",
    "i = 0\n",
    "j = 0\n",
    "occurOnceFlag=0 #To check if there is at least once occurence\n",
    "\n",
    "# Main KMP algorithm\n",
    "\n",
    "while (i < len(a)):\n",
    "    cnt_KMP+=1\n",
    "    if a[i] == inputSequence[j]:\n",
    "        i += 1\n",
    "        j += 1\n",
    "        cnt_KMP+=1\n",
    "        if j == len(inputSequence):\n",
    "            print(\"There is an occurrence at position:\", (i - j + 1))\n",
    "            i = i + len(inputSequence) - 1\n",
    "            occurOnceFlag=1\n",
    "            j = l[j - 1]\n",
    "    elif i < len(a) and inputSequence[j] != a[i]:\n",
    "        cnt_KMP+=1\n",
    "        if j != 0:\n",
    "            j = l[j - 1]\n",
    "        else:\n",
    "            i += 1\n",
    "#When there is COMPLETELY no occurence\n",
    "if(i == len(a) and occurOnceFlag == 0): \n",
    "    print(\"There is no occurence for your input: \" + inputSequence)\n",
    "#This was to store the data for the graphs output\n",
    "#data_KMP.append([len(inputSequence),cnt_KMP])"
   ]
  },
  {
   "cell_type": "markdown",
   "metadata": {},
   "source": [
    "# Boyer Moore"
   ]
  },
  {
   "cell_type": "code",
   "execution_count": 658,
   "metadata": {},
   "outputs": [],
   "source": [
    "# To calculate the maximum number of repetitions in inputSequence\n",
    "maximum=1\n",
    "# cnt_Boyer counts the number of comparisons for Boyer Moore\n",
    "cnt_Boyer=0\n",
    "for k in range(0,len(inputSequence)):\n",
    "    cnt=1\n",
    "    while(k+1<len(inputSequence) and inputSequence[k]==inputSequence[k+1]):\n",
    "        cnt+=1\n",
    "        k+=1\n",
    "        cnt_Boyer+=1\n",
    "    if cnt>maximum:\n",
    "        maximum=cnt\n",
    "    \n",
    "Count_A1=0\n",
    "Count_A2=0\n",
    "Count_G1=0\n",
    "Count_G2=0\n",
    "Count_T1=0\n",
    "Count_T2=0\n",
    "Count_C1=0\n",
    "Count_C2=0\n",
    "star=len(inputSequence)\n",
    "l=[]\n",
    "\n",
    "#Making the prerequisite table for Boyer Moore\n",
    "\n",
    "for i in range(0,len(inputSequence)):\n",
    "    cnt_Boyer+=1\n",
    "    off=len(inputSequence)-i-maximum\n",
    "    if inputSequence[i]=='A':\n",
    "        Count_A1=max(1,off)\n",
    "        Count_A2+=1\n",
    "    elif inputSequence[i]=='G':\n",
    "        Count_G1=max(1,off)\n",
    "        Count_G2+=1\n",
    "    elif inputSequence[i]=='T':\n",
    "        Count_T1=max(1,off)\n",
    "        Count_T2+=1\n",
    "    elif inputSequence[i]=='C':\n",
    "        Count_C1=max(1,off)\n",
    "        Count_C2+=1\n",
    "if Count_A2==0:\n",
    "    l.append(0)\n",
    "else:\n",
    "    l.append(Count_A1)\n",
    "if Count_G2==0:\n",
    "    l.append(0)\n",
    "else:\n",
    "    l.append(Count_G1)\n",
    "if Count_T2==0:\n",
    "    l.append(0)\n",
    "else:\n",
    "    l.append(Count_T1)\n",
    "if Count_C2==0:\n",
    "    l.append(0)\n",
    "else:\n",
    "    l.append(Count_C1)\n",
    "l.append(star)\n",
    "i=0"
   ]
  },
  {
   "cell_type": "code",
   "execution_count": 659,
   "metadata": {},
   "outputs": [
    {
     "name": "stdout",
     "output_type": "stream",
     "text": [
      "Found at  24682\n"
     ]
    }
   ],
   "source": [
    "i=0\n",
    "occurOnceFlag=0 #To check if there is at least once occurence\n",
    "\n",
    "# Main code for Boyer Moore\n",
    "\n",
    "while i<len(a)-len(inputSequence)+1:\n",
    "    j=len(inputSequence)-1\n",
    "    while j >=0 :\n",
    "        cnt_Boyer+=1\n",
    "        if(inputSequence[j]==a[i+j]):\n",
    "            j-=1\n",
    "            if j==-1:\n",
    "                print(\"Found at \",i+1)\n",
    "                occurOnceFlag=1\n",
    "                i+=len(inputSequence)\n",
    "        else:\n",
    "            cnt_Boyer+=1\n",
    "            if a[i+j]=='A' and Count_A1!=0:\n",
    "                i+=(l[0])\n",
    "            elif a[i+j]=='G'and Count_G1!=0:\n",
    "                i+=(l[1])\n",
    "            elif a[i+j]=='T'and Count_T1!=0:\n",
    "                i+=(l[2])\n",
    "            elif a[i+j]=='C'and Count_C1!=0:\n",
    "                i+=(l[3])\n",
    "            else:\n",
    "                i+=(l[4])\n",
    "            break\n",
    "if(occurOnceFlag == 0): \n",
    "    print(\"There is no occurence for your input: \" + inputSequence)\n",
    "\n",
    "#This was to store the data for the graphs output\n",
    "#data_Boyer.append([len(inputSequence),cnt_Boyer])"
   ]
  },
  {
   "cell_type": "markdown",
   "metadata": {},
   "source": [
    "# Graphs (PLEASE DO NOT RUN AS THE OUTPUT WILL CHANGE) \n",
    "## The team input 100 different values of inputSequence and found the corresponding no of comparisons and plotted it on the graph to find the upper bound value for all three algorithms."
   ]
  },
  {
   "cell_type": "markdown",
   "metadata": {},
   "source": [
    "## Brute Force Method"
   ]
  },
  {
   "cell_type": "code",
   "execution_count": 588,
   "metadata": {},
   "outputs": [],
   "source": [
    "import matplotlib.pyplot as plt\n",
    "import pandas as pd"
   ]
  },
  {
   "cell_type": "code",
   "execution_count": 614,
   "metadata": {},
   "outputs": [],
   "source": [
    "df_Brute= pd.DataFrame(data_Brute, columns = ['M', 'NOC']) "
   ]
  },
  {
   "cell_type": "code",
   "execution_count": 633,
   "metadata": {},
   "outputs": [
    {
     "name": "stdout",
     "output_type": "stream",
     "text": [
      "      M     NOC\n",
      "0    14  115449\n",
      "1    15  106608\n",
      "2    17  105372\n",
      "3    14  117645\n",
      "4    44  115813\n",
      "..  ...     ...\n",
      "95   16  115967\n",
      "96   10  106453\n",
      "97   20  112614\n",
      "98   21  114231\n",
      "99  230  114491\n",
      "\n",
      "[100 rows x 2 columns]\n",
      "Upper Bound =  118127\n"
     ]
    }
   ],
   "source": [
    "print(df_Brute)\n",
    "highest=max(df_Brute['NOC'])\n",
    "print(\"Upper Bound = \",highest)"
   ]
  },
  {
   "cell_type": "code",
   "execution_count": 586,
   "metadata": {},
   "outputs": [
    {
     "data": {
      "text/plain": [
       "<matplotlib.axes._subplots.AxesSubplot at 0x7ff325831350>"
      ]
     },
     "execution_count": 586,
     "metadata": {},
     "output_type": "execute_result"
    },
    {
     "data": {
      "image/png": "[encoded data removed]",
      "text/plain": [
       "<Figure size 432x288 with 1 Axes>"
      ]
     },
     "metadata": {
      "needs_background": "light"
     },
     "output_type": "display_data"
    }
   ],
   "source": [
    "df_Brute.plot(x ='NOC', y='M', kind = 'line')"
   ]
  },
  {
   "cell_type": "markdown",
   "metadata": {},
   "source": [
    "## Y axis represents len(inputSequence) denoted as M while the X axis represents No. of comparisons  "
   ]
  },
  {
   "cell_type": "code",
   "execution_count": 585,
   "metadata": {},
   "outputs": [
    {
     "data": {
      "text/plain": [
       "<matplotlib.collections.PathCollection at 0x7ff32573fd50>"
      ]
     },
     "execution_count": 585,
     "metadata": {},
     "output_type": "execute_result"
    },
    {
     "data": {
      "image/png": "[encoded data removed]",
      "text/plain": [
       "<Figure size 432x288 with 1 Axes>"
      ]
     },
     "metadata": {
      "needs_background": "light"
     },
     "output_type": "display_data"
    }
   ],
   "source": [
    "plt.scatter(df_Brute['NOC'], df_Brute['M'])"
   ]
  },
  {
   "cell_type": "markdown",
   "metadata": {},
   "source": [
    "## KMP"
   ]
  },
  {
   "cell_type": "code",
   "execution_count": 616,
   "metadata": {},
   "outputs": [],
   "source": [
    "df_KMP= pd.DataFrame(data_KMP, columns = ['M', 'NOC']) "
   ]
  },
  {
   "cell_type": "code",
   "execution_count": 617,
   "metadata": {},
   "outputs": [
    {
     "name": "stdout",
     "output_type": "stream",
     "text": [
      "      M    NOC\n",
      "0    14  78423\n",
      "1    15  71502\n",
      "2    17  71358\n",
      "3    14  77158\n",
      "4    44  78712\n",
      "..  ...    ...\n",
      "95   16  78958\n",
      "96   10  70783\n",
      "97   20  77455\n",
      "98   21  77691\n",
      "99  230  76369\n",
      "\n",
      "[100 rows x 2 columns]\n",
      "Upper Bound =  78990\n"
     ]
    }
   ],
   "source": [
    "print(df_KMP)\n",
    "highest=max(df_KMP['NOC'])\n",
    "print(\"Upper Bound = \",highest)"
   ]
  },
  {
   "cell_type": "code",
   "execution_count": 618,
   "metadata": {},
   "outputs": [
    {
     "data": {
      "text/plain": [
       "<matplotlib.axes._subplots.AxesSubplot at 0x7ff32691f4d0>"
      ]
     },
     "execution_count": 618,
     "metadata": {},
     "output_type": "execute_result"
    },
    {
     "data": {
      "image/png": "[encoded data removed]",
      "text/plain": [
       "<Figure size 432x288 with 1 Axes>"
      ]
     },
     "metadata": {
      "needs_background": "light"
     },
     "output_type": "display_data"
    }
   ],
   "source": [
    "df_KMP.plot(x ='NOC', y='M', kind = 'line')"
   ]
  },
  {
   "cell_type": "markdown",
   "metadata": {},
   "source": [
    "## Y axis represents len(inputSequence) denoted as M while the X axis represents No. of comparisons  "
   ]
  },
  {
   "cell_type": "code",
   "execution_count": 635,
   "metadata": {},
   "outputs": [
    {
     "data": {
      "text/plain": [
       "<matplotlib.collections.PathCollection at 0x7ff3269cac50>"
      ]
     },
     "execution_count": 635,
     "metadata": {},
     "output_type": "execute_result"
    },
    {
     "data": {
      "image/png": "[encoded data removed]",
      "text/plain": [
       "<Figure size 432x288 with 1 Axes>"
      ]
     },
     "metadata": {
      "needs_background": "light"
     },
     "output_type": "display_data"
    }
   ],
   "source": [
    "plt.scatter(df_KMP['NOC'], df_KMP['M'])"
   ]
  },
  {
   "cell_type": "markdown",
   "metadata": {},
   "source": [
    "## Boyer Moore"
   ]
  },
  {
   "cell_type": "code",
   "execution_count": 608,
   "metadata": {},
   "outputs": [],
   "source": [
    "df_Boyer= pd.DataFrame(data_Boyer, columns = ['M', 'NOC']) "
   ]
  },
  {
   "cell_type": "code",
   "execution_count": 609,
   "metadata": {},
   "outputs": [
    {
     "name": "stdout",
     "output_type": "stream",
     "text": [
      "      M    NOC\n",
      "0    14  31895\n",
      "1    15  24452\n",
      "2    17  14067\n",
      "3    14  22452\n",
      "4    44  31740\n",
      "..  ...    ...\n",
      "95   16  27234\n",
      "96   10  25371\n",
      "97   20  31978\n",
      "98   21  67943\n",
      "99  230  51619\n",
      "\n",
      "[100 rows x 2 columns]\n",
      "Upper Bound =  71860\n"
     ]
    }
   ],
   "source": [
    "print(df_Boyer)\n",
    "highest=max(df_Boyer['NOC'])\n",
    "print(\"Upper Bound = \",highest)"
   ]
  },
  {
   "cell_type": "code",
   "execution_count": 610,
   "metadata": {},
   "outputs": [
    {
     "data": {
      "text/plain": [
       "<matplotlib.axes._subplots.AxesSubplot at 0x7ff325ee9350>"
      ]
     },
     "execution_count": 610,
     "metadata": {},
     "output_type": "execute_result"
    },
    {
     "data": {
      "image/png": "[encoded data removed]",
      "text/plain": [
       "<Figure size 432x288 with 1 Axes>"
      ]
     },
     "metadata": {
      "needs_background": "light"
     },
     "output_type": "display_data"
    }
   ],
   "source": [
    "df_Boyer.plot(x ='NOC', y='M', kind = 'line')"
   ]
  },
  {
   "cell_type": "markdown",
   "metadata": {},
   "source": [
    "## Y axis represents len(inputSequence) denoted as M while the X axis represents No. of comparisons  "
   ]
  },
  {
   "cell_type": "code",
   "execution_count": 611,
   "metadata": {},
   "outputs": [
    {
     "data": {
      "text/plain": [
       "<matplotlib.collections.PathCollection at 0x7ff326833990>"
      ]
     },
     "execution_count": 611,
     "metadata": {},
     "output_type": "execute_result"
    },
    {
     "data": {
      "image/png": "[encoded data removed]",
      "text/plain": [
       "<Figure size 432x288 with 1 Axes>"
      ]
     },
     "metadata": {
      "needs_background": "light"
     },
     "output_type": "display_data"
    }
   ],
   "source": [
    "plt.scatter(df_Boyer['NOC'], df_Boyer['M'])"
   ]
  }
 ],
 "metadata": {
  "kernelspec": {
   "display_name": "Python 3",
   "language": "python",
   "name": "python3"
  },
  "language_info": {
   "codemirror_mode": {
    "name": "ipython",
    "version": 3
   },
   "file_extension": ".py",
   "mimetype": "text/x-python",
   "name": "python",
   "nbconvert_exporter": "python",
   "pygments_lexer": "ipython3",
   "version": "3.7.6"
  }
 },
 "nbformat": 4,
 "nbformat_minor": 4
}
